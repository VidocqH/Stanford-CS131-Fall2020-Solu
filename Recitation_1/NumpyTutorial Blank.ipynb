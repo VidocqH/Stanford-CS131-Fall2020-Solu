{
 "cells": [
  {
   "cell_type": "markdown",
   "metadata": {},
   "source": [
    "# Quick and Dirty Guide To Numpy\n",
    "\n",
    "\n",
    "**So you want to learn about numpy?**\n",
    "\n",
    "Numpy is an important library for anyone wanting to work with large scale datasets in Python.  Numpy arrays provide value because they are easier and faster to manipulate than traditional python lists.\n",
    "\n",
    "### Why use numpy arrays instead of Python lists?\n",
    "\n",
    "1. Saves you time as a programmer: when using lists, you have to use loops to apply a function to each element of an array.  In numpy, all common mathematical computations can be vectorized.  This leads to a much faster runtime, as well as fewer lines of code. \n",
    "\n",
    "2. Under the hood, numpy arrays use less memory, and are constrained to a single data type, which enables faster execution."
   ]
  },
  {
   "cell_type": "markdown",
   "metadata": {},
   "source": [
    "<img src=\"memory_diagram.png\">\n",
    "\n",
    "The figure above shows the memory diagram of a numpy array.  Python lists have special functionality where their elements don't all have to be of the same type.  As a result, under the hood python lists are actually an array of pointers that point to the actual array elements.  Hopefully, this fact provides some intuition as to why many operations run faster with numpy arrays as the underlying data structure! Neat!"
   ]
  },
  {
   "cell_type": "markdown",
   "metadata": {},
   "source": [
    "### Let's get started!"
   ]
  },
  {
   "cell_type": "code",
   "execution_count": 1,
   "metadata": {},
   "outputs": [],
   "source": [
    "#It's a common convention to abbreviate numpy as np\n",
    "import numpy as np"
   ]
  },
  {
   "cell_type": "markdown",
   "metadata": {},
   "source": [
    "### Creating a Numpy Array\n",
    "There are many ways to create a numpy array.  In general, the options are \n",
    "- converting other Python data structures to np.array format\n",
    "- numpy functions that create new arrays (i.e. np.ones, np.zeros, np.arange)\n",
    "- reading files from disk (in this class, mostly images)"
   ]
  },
  {
   "cell_type": "markdown",
   "metadata": {},
   "source": [
    "Note that unlike lists, you can't create an empty numpy array"
   ]
  },
  {
   "cell_type": "code",
   "execution_count": 2,
   "metadata": {},
   "outputs": [
    {
     "name": "stdout",
     "output_type": "stream",
     "text": [
      "1 dimensional: \n",
      "Shape:  (5,)\n"
     ]
    },
    {
     "data": {
      "text/plain": [
       "array([1, 2, 3, 4, 5])"
      ]
     },
     "execution_count": 2,
     "metadata": {},
     "output_type": "execute_result"
    }
   ],
   "source": [
    "# create a 1 dimensional array from a list: [1,2,3,4,5]\n",
    "print(\"1 dimensional: \")\n",
    "x = np.array([1,2,3,4,5])\n",
    "print(\"Shape: \", x.shape)\n",
    "x"
   ]
  },
  {
   "cell_type": "code",
   "execution_count": 3,
   "metadata": {},
   "outputs": [
    {
     "name": "stdout",
     "output_type": "stream",
     "text": [
      "2 dimensional: \n",
      "Shape:  (2, 5)\n"
     ]
    },
    {
     "data": {
      "text/plain": [
       "array([[ 1,  2,  3,  4,  5],\n",
       "       [ 6,  7,  8,  9, 10]])"
      ]
     },
     "execution_count": 3,
     "metadata": {},
     "output_type": "execute_result"
    }
   ],
   "source": [
    "# Create a 2-d array from multiple lists: \n",
    "    # first row = [1,2,3,4,5]\n",
    "    # second row = [6,7,8,9,10]\n",
    "print(\"2 dimensional: \")\n",
    "y = np.array([[1,2,3,4,5], [6,7,8,9,10]])\n",
    "print(\"Shape: \", y.shape)\n",
    "y"
   ]
  },
  {
   "cell_type": "code",
   "execution_count": 4,
   "metadata": {},
   "outputs": [
    {
     "data": {
      "text/plain": [
       "array([[0., 0., 0.],\n",
       "       [0., 0., 0.],\n",
       "       [0., 0., 0.]])"
      ]
     },
     "execution_count": 4,
     "metadata": {},
     "output_type": "execute_result"
    }
   ],
   "source": [
    "# you can create an array of any dimensions using np.zeros\n",
    "z = np.zeros((3,3))\n",
    "z"
   ]
  },
  {
   "cell_type": "code",
   "execution_count": 5,
   "metadata": {},
   "outputs": [
    {
     "name": "stdout",
     "output_type": "stream",
     "text": [
      "[[1. 0. 0.]\n",
      " [0. 1. 0.]\n",
      " [0. 0. 1.]]\n"
     ]
    },
    {
     "data": {
      "text/plain": [
       "array([[1., 1.],\n",
       "       [1., 1.]])"
      ]
     },
     "execution_count": 5,
     "metadata": {},
     "output_type": "execute_result"
    }
   ],
   "source": [
    "#other handy things\n",
    "identity = np.identity(3)\n",
    "print(identity)\n",
    "\n",
    "ones = np.ones((2,2))\n",
    "ones"
   ]
  },
  {
   "cell_type": "markdown",
   "metadata": {},
   "source": [
    "### Array attributes"
   ]
  },
  {
   "cell_type": "markdown",
   "metadata": {},
   "source": [
    "Every numpy array is a grid of elements of the same type. Numpy provides a large set of numeric datatypes that you can use to construct arrays. Numpy tries to guess a datatype when you create an array, but functions that construct arrays usually also include an optional argument to explicitly specify the datatype. Take a look at the attributes associated with a numpy array, and then we'll explore how numpy arrays determine their type."
   ]
  },
  {
   "cell_type": "code",
   "execution_count": 6,
   "metadata": {},
   "outputs": [
    {
     "name": "stdout",
     "output_type": "stream",
     "text": [
      "(3, 3)\n",
      "9\n",
      "float64\n"
     ]
    }
   ],
   "source": [
    "print(identity.shape) #returns tuple of dimensions\n",
    "print(identity.size) # returns total number of elements\n",
    "print(identity.dtype) #the default dtype is float64"
   ]
  },
  {
   "cell_type": "code",
   "execution_count": 7,
   "metadata": {},
   "outputs": [
    {
     "name": "stdout",
     "output_type": "stream",
     "text": [
      "int64 float64 int64\n"
     ]
    }
   ],
   "source": [
    "x = np.array([1, 2])  # Let numpy choose the datatype\n",
    "y = np.array([1.0, 2.0])  # Let numpy choose the datatype\n",
    "z = np.array([1, 2], dtype=np.int64)  # Force a particular datatype\n",
    "\n",
    "print(x.dtype, y.dtype, z.dtype)"
   ]
  },
  {
   "cell_type": "markdown",
   "metadata": {},
   "source": [
    "### Accessing elements"
   ]
  },
  {
   "cell_type": "markdown",
   "metadata": {},
   "source": [
    "Numpy offers several ways to index into arrays. When arrays are one dimensional, indexing works just like lists. When arrays are 2 or more dimensional, you specify an index for each dimension:\n",
    "\n",
    "`value = array[row_index, col_index]`"
   ]
  },
  {
   "cell_type": "code",
   "execution_count": 8,
   "metadata": {},
   "outputs": [
    {
     "name": "stdout",
     "output_type": "stream",
     "text": [
      "[[1 2 3]\n",
      " [4 5 6]]\n",
      "expecting 3, got:  3\n",
      "expecting 4, got:  4\n"
     ]
    }
   ],
   "source": [
    "# Create a 2-dimensional array (matrix)\n",
    "# [[ 1  2  3]\n",
    "#  [ 4  5  6]]\n",
    "a = np.array([[1,2,3],[4,5,6]])   \n",
    "print(a)\n",
    "\n",
    "# Access the 3 with array indexing\n",
    "a_3 = a[0,2]\n",
    "print(\"expecting 3, got: \", a_3)\n",
    "\n",
    "# Access the 4 with array indexing\n",
    "a_4 = a[1,0]\n",
    "print(\"expecting 4, got: \", a_4)"
   ]
  },
  {
   "cell_type": "markdown",
   "metadata": {},
   "source": [
    "Slicing: Similar to Python lists, numpy arrays can be sliced. Since arrays may be multidimensional, you must specify a slice for each dimension of the array. Recall how slicing works in lists:"
   ]
  },
  {
   "cell_type": "code",
   "execution_count": 9,
   "metadata": {},
   "outputs": [
    {
     "name": "stdout",
     "output_type": "stream",
     "text": [
      "[0, 1, 2, 3, 4]\n",
      "All elements of l:  [0, 1, 2, 3, 4]\n",
      "All after 2nd element:  [2, 3, 4]\n",
      "All before 2nd element:  [0, 1]\n",
      "All between 1st and 3rd element exclusive:  [1, 2]\n"
     ]
    }
   ],
   "source": [
    "# Recall list slicing:\n",
    "l = [0,1,2,3,4]\n",
    "\n",
    "print(l)\n",
    "print(\"All elements of l: \", l[:])\n",
    "print(\"All after 2nd element: \", l[2:])\n",
    "print(\"All before 2nd element: \", l[:2])\n",
    "print(\"All between 1st and 3rd element exclusive: \", l[1:3])"
   ]
  },
  {
   "cell_type": "markdown",
   "metadata": {},
   "source": [
    "Now let's try slicing in two dimensions!"
   ]
  },
  {
   "cell_type": "code",
   "execution_count": 10,
   "metadata": {},
   "outputs": [
    {
     "name": "stdout",
     "output_type": "stream",
     "text": [
      "a = \n",
      " [[1 2 3]\n",
      " [4 5 6]]\n",
      "0th row expecting [1,2,3], got:  [1 2 3]\n",
      "0th column expecting [1,4], got:  [1 4]\n"
     ]
    }
   ],
   "source": [
    "print(\"a = \\n\", a)\n",
    "\n",
    "# Access the 0th row of a:\n",
    "a_row0 = a[0, :]\n",
    "print(\"0th row expecting [1,2,3], got: \", a_row0)\n",
    "\n",
    "# Access the 0th column of a\n",
    "a_col0 = a[:, 0]\n",
    "print(\"0th column expecting [1,4], got: \", a_col0)"
   ]
  },
  {
   "cell_type": "code",
   "execution_count": 11,
   "metadata": {},
   "outputs": [
    {
     "name": "stdout",
     "output_type": "stream",
     "text": [
      "[[ 1  2  3  4]\n",
      " [ 5  6  7  8]\n",
      " [ 9 10 11 12]\n",
      " [13 14 15 16]]\n"
     ]
    }
   ],
   "source": [
    "# TODO: Create the following rank 2 array with shape (3, 4)\n",
    "# [[ 1,  2,  3,  4]\n",
    "#  [ 5,  6,  7,  8]\n",
    "#  [ 9, 10, 11, 12]\n",
    "#  [13, 14, 15, 16]]\n",
    "\n",
    "# HINT: if you want to take a fancy shortcut, use np.arange() to create this matrix\n",
    "\n",
    "b = np.array([np.arange(1, 5), np.arange(5, 9), np.arange(9, 13), np.arange(13, 17)])\n",
    "print(b)"
   ]
  },
  {
   "cell_type": "code",
   "execution_count": 12,
   "metadata": {},
   "outputs": [
    {
     "name": "stdout",
     "output_type": "stream",
     "text": [
      "middle two rows: \n",
      " [[ 5  6  7  8]\n",
      " [ 9 10 11 12]]\n",
      "middle two columns: \n",
      " [[ 2  3]\n",
      " [ 6  7]\n",
      " [10 11]\n",
      " [14 15]]\n",
      "center two columns and two rows: \n",
      " [[ 6  7]\n",
      " [10 11]]\n"
     ]
    }
   ],
   "source": [
    "# TODO: use slicing to pull out the middle two rows\n",
    "b_rows = b[1:3, :]\n",
    "print(\"middle two rows: \\n\", b_rows)\n",
    "\n",
    "# TODO: use slicing to pull out the middle two columns\n",
    "b_cols = b[:, 1:3]\n",
    "print(\"middle two columns: \\n\", b_cols)\n",
    "\n",
    "# TODO: use slicing to pull out only the middle two rows and middle two columns,\n",
    "# meaning a (2,2) array: \n",
    "# [[6 7]\n",
    "#  [10 11]]\n",
    "b_center = b[1:3, 1:3]\n",
    "print(\"center two columns and two rows: \\n\", b_center)\n"
   ]
  },
  {
   "cell_type": "markdown",
   "metadata": {},
   "source": [
    "A slice of an array is a view into the same data, so modifying it will modify the original array."
   ]
  },
  {
   "cell_type": "code",
   "execution_count": 13,
   "metadata": {},
   "outputs": [
    {
     "name": "stdout",
     "output_type": "stream",
     "text": [
      "original a = \n",
      " [[1 2 3]\n",
      " [4 5 6]]\n",
      "new a = \n",
      " [[  1 100   3]\n",
      " [  4   5   6]]\n"
     ]
    }
   ],
   "source": [
    "# [[ 1  2  3]\n",
    "#  [ 4  5  6]]\n",
    "a = np.array([[1,2,3],[4,5,6]])   \n",
    "print(\"original a = \\n\", a)\n",
    "\n",
    "a_row0 = a[0,:]\n",
    "a_row0[1] = 100 # a_row0[1] is the same piece of data as a[0, 1]\n",
    "\n",
    "print(\"new a = \\n\", a)"
   ]
  },
  {
   "cell_type": "markdown",
   "metadata": {},
   "source": [
    "### Matrix Operations\n",
    "Numpy makes it easy to do matrix operations on arrays, like multiply, invert, etc. Basic mathematical functions operate elementwise on arrays, and are available both as operator overloads and as functions in the numpy module"
   ]
  },
  {
   "cell_type": "code",
   "execution_count": 14,
   "metadata": {},
   "outputs": [
    {
     "name": "stdout",
     "output_type": "stream",
     "text": [
      "x = \n",
      " [[1. 2.]\n",
      " [3. 4.]]\n",
      "float64\n",
      "y = \n",
      " [[5. 6.]\n",
      " [7. 8.]]\n",
      "float64\n"
     ]
    }
   ],
   "source": [
    "x = np.array([[1,2],[3,4]], dtype=np.float64)\n",
    "y = np.array([[5,6],[7,8]], dtype=np.float64)\n",
    "\n",
    "print(\"x = \\n\", x)\n",
    "print(x.dtype)\n",
    "print(\"y = \\n\", y)\n",
    "print(y.dtype)\n",
    "\n"
   ]
  },
  {
   "cell_type": "code",
   "execution_count": 15,
   "metadata": {},
   "outputs": [
    {
     "name": "stdout",
     "output_type": "stream",
     "text": [
      "Original x: \n",
      "[[1. 2.]\n",
      " [3. 4.]]\n",
      "\n",
      "x+1\n",
      "[[2. 3.]\n",
      " [4. 5.]]\n",
      "\n",
      "x*4.5\n",
      "[[ 4.5  9. ]\n",
      " [13.5 18. ]]\n",
      "\n",
      "x/2.0\n",
      "[[0.5 1. ]\n",
      " [1.5 2. ]]\n"
     ]
    }
   ],
   "source": [
    "#all arithmetic operations are applied to a matrix element-wise\n",
    "print(\"Original x: \")\n",
    "print(x)\n",
    "print(\"\\nx+1\")\n",
    "print(x + 1)\n",
    "print(\"\\nx*4.5\")\n",
    "print(4.5*x)\n",
    "print(\"\\nx/2.0\")\n",
    "print(x/2.0)"
   ]
  },
  {
   "cell_type": "code",
   "execution_count": 16,
   "metadata": {},
   "outputs": [
    {
     "name": "stdout",
     "output_type": "stream",
     "text": [
      "x = \n",
      " [[1. 2.]\n",
      " [3. 4.]]\n",
      "y = \n",
      " [[5. 6.]\n",
      " [7. 8.]]\n",
      "\n",
      "x+y:\n",
      "[[ 6.  8.]\n",
      " [10. 12.]]\n",
      "[[ 6.  8.]\n",
      " [10. 12.]]\n"
     ]
    }
   ],
   "source": [
    "# Elementwise sum; both produce the array\n",
    "print(\"x = \\n\", x)\n",
    "print(\"y = \\n\", y)\n",
    "print(\"\\nx+y:\")\n",
    "print(x + y)\n",
    "print(np.add(x, y))"
   ]
  },
  {
   "cell_type": "code",
   "execution_count": 17,
   "metadata": {},
   "outputs": [
    {
     "name": "stdout",
     "output_type": "stream",
     "text": [
      "x = \n",
      " [[1. 2.]\n",
      " [3. 4.]]\n",
      "y = \n",
      " [[5. 6.]\n",
      " [7. 8.]]\n",
      "\n",
      "x-y:\n",
      "[[-4. -4.]\n",
      " [-4. -4.]]\n",
      "[[-4. -4.]\n",
      " [-4. -4.]]\n"
     ]
    }
   ],
   "source": [
    "# Elementwise difference; both produce the array\n",
    "print(\"x = \\n\", x)\n",
    "print(\"y = \\n\", y)\n",
    "print(\"\\nx-y:\")\n",
    "print(x - y)\n",
    "print(np.subtract(x, y))"
   ]
  },
  {
   "cell_type": "code",
   "execution_count": 18,
   "metadata": {},
   "outputs": [
    {
     "name": "stdout",
     "output_type": "stream",
     "text": [
      "x = \n",
      " [[1. 2.]\n",
      " [3. 4.]]\n",
      "y = \n",
      " [[5. 6.]\n",
      " [7. 8.]]\n",
      "\n",
      "x*y:\n",
      "[[ 5. 12.]\n",
      " [21. 32.]]\n",
      "[[ 5. 12.]\n",
      " [21. 32.]]\n"
     ]
    }
   ],
   "source": [
    "# Elementwise product; both produce the array\n",
    "print(\"x = \\n\", x)\n",
    "print(\"y = \\n\", y)\n",
    "print(\"\\nx*y:\")\n",
    "print(x * y)\n",
    "print(np.multiply(x, y))"
   ]
  },
  {
   "cell_type": "code",
   "execution_count": 19,
   "metadata": {},
   "outputs": [
    {
     "name": "stdout",
     "output_type": "stream",
     "text": [
      "x = \n",
      " [[1. 2.]\n",
      " [3. 4.]]\n",
      "y = \n",
      " [[5. 6.]\n",
      " [7. 8.]]\n",
      "\n",
      "x/y:\n",
      "[[0.2        0.33333333]\n",
      " [0.42857143 0.5       ]]\n",
      "[[0.2        0.33333333]\n",
      " [0.42857143 0.5       ]]\n"
     ]
    }
   ],
   "source": [
    "# Elementwise division; both produce the array\n",
    "# [[ 0.2         0.33333333]\n",
    "#  [ 0.42857143  0.5       ]]\n",
    "print(\"x = \\n\", x)\n",
    "print(\"y = \\n\", y)\n",
    "print(\"\\nx/y:\")\n",
    "print(x / y)\n",
    "print(np.divide(x, y))"
   ]
  },
  {
   "cell_type": "code",
   "execution_count": 20,
   "metadata": {},
   "outputs": [
    {
     "name": "stdout",
     "output_type": "stream",
     "text": [
      "x = \n",
      " [[1. 2.]\n",
      " [3. 4.]]\n",
      "\n",
      "sqrt(x):\n",
      "[[1.         1.41421356]\n",
      " [1.73205081 2.        ]]\n"
     ]
    }
   ],
   "source": [
    "# Elementwise square root; produces the array\n",
    "# [[ 1.          1.41421356]\n",
    "#  [ 1.73205081  2.        ]]\n",
    "print(\"x = \\n\", x)\n",
    "print(\"\\nsqrt(x):\")\n",
    "print(np.sqrt(x))"
   ]
  },
  {
   "cell_type": "code",
   "execution_count": 21,
   "metadata": {},
   "outputs": [
    {
     "name": "stdout",
     "output_type": "stream",
     "text": [
      "x = \n",
      " [[1. 2.]\n",
      " [3. 4.]]\n",
      "\n",
      "x^2:\n",
      "[[ 1.  4.]\n",
      " [ 9. 16.]]\n"
     ]
    }
   ],
   "source": [
    "# Elementwise power; produces the array\n",
    "# [[ 1.          1.41421356]\n",
    "#  [ 1.73205081  2.        ]]\n",
    "print(\"x = \\n\", x)\n",
    "print(\"\\nx^2:\")\n",
    "print(np.power(x,2))"
   ]
  },
  {
   "cell_type": "code",
   "execution_count": 22,
   "metadata": {},
   "outputs": [
    {
     "data": {
      "text/plain": [
       "array([[ 5., 12.],\n",
       "       [21., 32.]])"
      ]
     },
     "execution_count": 22,
     "metadata": {},
     "output_type": "execute_result"
    }
   ],
   "source": [
    "# Will this multiplication operator do elementwise multiplication or matrix multiplication?\n",
    "x*y\n",
    "# A: Elementwise multiplication"
   ]
  },
  {
   "cell_type": "markdown",
   "metadata": {},
   "source": [
    "Let's practice these operations!\n",
    "\n",
    "Given arrays x and y, write array z as a function of x and y: z[0] = x[0] - y[0], and z[1] = x[1] - y[1]. Use numpy operations!\n",
    "\n",
    "Hint: think about how the 2 equations may be written with vector operations (such as those above), and that will translate cleanly to numpy "
   ]
  },
  {
   "cell_type": "code",
   "execution_count": 23,
   "metadata": {},
   "outputs": [
    {
     "name": "stdout",
     "output_type": "stream",
     "text": [
      "Your answer:  [-1 -2]\n",
      "Expecting:  [-1 -2]\n",
      "Correct!\n"
     ]
    }
   ],
   "source": [
    "# TODO\n",
    "x = np.array([1,3])\n",
    "y = np.array([2,5])\n",
    "z = np.array([-1,-2])\n",
    "\n",
    "z_computed = x - y\n",
    "print(\"Your answer: \", z_computed)\n",
    "print(\"Expecting: \", z)\n",
    "if z.all() == z_computed.all():\n",
    "    print(\"Correct!\")\n",
    "else:\n",
    "    print(\"Try thinking of a numpy function above with x and y that gets you equivalent to z\")"
   ]
  },
  {
   "cell_type": "markdown",
   "metadata": {},
   "source": [
    "Now, try using the numpy functions to calculate x = ((a+b)*c) - d\n",
    "\n",
    "If you get stuck, try following the order of operations with the parenthesis and compute a+b first and verify by hand, and then proceed to (a+b)*c, and so on."
   ]
  },
  {
   "cell_type": "code",
   "execution_count": 24,
   "metadata": {},
   "outputs": [
    {
     "name": "stdout",
     "output_type": "stream",
     "text": [
      "Your answer:  [3. 1.]\n",
      "Expecting:  [3 1]\n",
      "Correct!\n"
     ]
    }
   ],
   "source": [
    "\n",
    "a = np.array([1,3])\n",
    "b = np.array([1,1])\n",
    "c = np.array([2,1/2])\n",
    "d = np.array([1,1])\n",
    "x = np.array([3,1])\n",
    "\n",
    "# TODO\n",
    "answer = ((a + b) * c) - d\n",
    "\n",
    "print(\"Your answer: \", answer)\n",
    "print(\"Expecting: \", x)\n",
    "if x.all() == answer.all():\n",
    "    print(\"Correct!\")\n",
    "else:\n",
    "    print(\"Try thinking of a which numpy functions above with a,b, and c gets you equivalent to x\")"
   ]
  },
  {
   "cell_type": "markdown",
   "metadata": {},
   "source": [
    "### Axis-based operations"
   ]
  },
  {
   "cell_type": "markdown",
   "metadata": {},
   "source": [
    "Now that we've covered 2d indexing, there's some important numpy functions that operate on a particular axis, so let's get hands on with sum()! Many numpy operations including sum, max, argmax, mean, standard deviation operate over a chosen axis of your array. \n",
    "\n",
    "Sum can sum all elements of the 2d array, or it can sum across each row, or sum down each column. \n",
    "\n",
    "Axis 0 corresponds to columns, and axis 1 corresponds to rows, just like indexing. When you apply an operation like sum over axis 0, that means axis 0 is being squashed into length 1 by the sum, max, etc. operation."
   ]
  },
  {
   "cell_type": "code",
   "execution_count": 25,
   "metadata": {},
   "outputs": [
    {
     "name": "stdout",
     "output_type": "stream",
     "text": [
      "std: 0.2465639258090985\n",
      "mean: 0.6145659035916706\n",
      "sum: 5.531093132325036\n",
      "\n",
      "std (rows): [0.17291031 0.29510858 0.1231262 ]\n",
      "mean (rows): [0.78692233 0.58165161 0.47512377]\n"
     ]
    }
   ],
   "source": [
    "#numpy arrays have builtin methods to calculate summary statistics such as std. dev., mean, min, max, sum\n",
    "y = np.random.random(9).reshape(3,3)\n",
    "print(\"std:\", y.std())\n",
    "print(\"mean:\", y.mean())\n",
    "print(\"sum:\", y.sum())\n",
    "\n",
    "print()\n",
    "#you can also do these operations with respect to a particular axis\n",
    "print(\"std (rows):\", y.std(axis = 1))\n",
    "print(\"mean (rows):\", y.mean(axis = 1))"
   ]
  },
  {
   "cell_type": "code",
   "execution_count": 26,
   "metadata": {},
   "outputs": [
    {
     "name": "stdout",
     "output_type": "stream",
     "text": [
      "[[1 2]\n",
      " [3 4]]\n",
      "\n",
      "10\n",
      "\n",
      "[4 6]\n",
      "\n",
      "[3 7]\n"
     ]
    }
   ],
   "source": [
    "# Sum of an array along various axes\n",
    "x = np.array([[1,2],[3,4]])\n",
    "print(x)\n",
    "print()\n",
    "print(np.sum(x))  # Compute sum of all elements; prints \"10\"\n",
    "print()\n",
    "print(np.sum(x, axis=0))  # Compute sum of each column; prints \"[4 6]\"\n",
    "print()\n",
    "print(np.sum(x, axis=1)) # Compute sum of each row; prints \"[3 7]\""
   ]
  },
  {
   "cell_type": "code",
   "execution_count": 27,
   "metadata": {},
   "outputs": [
    {
     "name": "stdout",
     "output_type": "stream",
     "text": [
      "[1 2 3]\n",
      "6\n"
     ]
    }
   ],
   "source": [
    "# Sum of a vector doesn't need to specify axis since there's only one axis\n",
    "x = np.array([1,2,3])\n",
    "print(x)\n",
    "print(np.sum(x))"
   ]
  },
  {
   "cell_type": "markdown",
   "metadata": {},
   "source": [
    "Your turn!"
   ]
  },
  {
   "cell_type": "code",
   "execution_count": 28,
   "metadata": {},
   "outputs": [
    {
     "name": "stdout",
     "output_type": "stream",
     "text": [
      "x = \n",
      " [[1 2 3]\n",
      " [4 5 6]\n",
      " [3 2 1]]\n"
     ]
    },
    {
     "data": {
      "text/plain": [
       "'\\nIt will be\\nx = [\\n    [1,2,3]\\n    [4,5,6]\\n    [3,2,1]\\n]\\n'"
      ]
     },
     "execution_count": 28,
     "metadata": {},
     "output_type": "execute_result"
    }
   ],
   "source": [
    "# Get hands-on with sum! Guess what the output will be and then run it to confirm\n",
    "x = np.array([[1,2,3],[4,5,6],[3,2,1]])\n",
    "print(\"x = \\n\", x)\n",
    "'''\n",
    "It will be\n",
    "x = [\n",
    "    [1,2,3]\n",
    "    [4,5,6]\n",
    "    [3,2,1]\n",
    "]\n",
    "''' "
   ]
  },
  {
   "cell_type": "code",
   "execution_count": 29,
   "metadata": {},
   "outputs": [
    {
     "name": "stdout",
     "output_type": "stream",
     "text": [
      "Your guess for np.sum(x):  27\n",
      "Actual =  27\n"
     ]
    }
   ],
   "source": [
    "#np.sum(x)\n",
    "# TODO:\n",
    "guess = np.sum(x)\n",
    "print(\"Your guess for np.sum(x): \", guess)\n",
    "print(\"Actual = \", np.sum(x))"
   ]
  },
  {
   "cell_type": "code",
   "execution_count": 30,
   "metadata": {},
   "outputs": [
    {
     "name": "stdout",
     "output_type": "stream",
     "text": [
      "Your guess for np.sum(x, axis=1):  [ 6 15  6]\n",
      "Actual =  [ 6 15  6]\n"
     ]
    }
   ],
   "source": [
    "#np.sum(x, axis=1)\n",
    "# TODO:\n",
    "guess = np.sum(x, axis=1)\n",
    "print(\"Your guess for np.sum(x, axis=1): \", guess)\n",
    "print(\"Actual = \", np.sum(x, axis=1))"
   ]
  },
  {
   "cell_type": "code",
   "execution_count": 31,
   "metadata": {
    "scrolled": true
   },
   "outputs": [
    {
     "name": "stdout",
     "output_type": "stream",
     "text": [
      "Your guess for np.sum(x, axis=0):  [ 8  9 10]\n",
      "Actual =  [ 8  9 10]\n"
     ]
    }
   ],
   "source": [
    "#np.sum(x, axis=0)\n",
    "# TODO:\n",
    "guess = np.sum(x, axis=0)\n",
    "print(\"Your guess for np.sum(x, axis=0): \", guess)\n",
    "print(\"Actual = \", np.sum(x, axis=0))"
   ]
  },
  {
   "cell_type": "markdown",
   "metadata": {},
   "source": [
    "# Demo\n",
    "Imagine I want to apply the function $f(x) = x^2 + x -6$ to every emelent of an array"
   ]
  },
  {
   "cell_type": "code",
   "execution_count": 32,
   "metadata": {},
   "outputs": [
    {
     "name": "stdout",
     "output_type": "stream",
     "text": [
      "1000\n"
     ]
    },
    {
     "data": {
      "text/plain": [
       "[[-6, 8],\n",
       " [-8, -2],\n",
       " [-7, 5],\n",
       " [4, 5],\n",
       " [10, 2],\n",
       " [-4, -7],\n",
       " [5, -10],\n",
       " [2, 3],\n",
       " [9, -10],\n",
       " [4, -2]]"
      ]
     },
     "execution_count": 32,
     "metadata": {},
     "output_type": "execute_result"
    }
   ],
   "source": [
    "#First let's try it with python lists\n",
    "import random\n",
    "random.seed(1)\n",
    "h = 1000\n",
    "w = 2\n",
    "\n",
    "def func(x):\n",
    "    return x**2 + x - 6\n",
    "\n",
    "first_list = [[random.randint(-10,10), random.randint(-10,10)] for i in range(h)]\n",
    "print(len(first_list))\n",
    "first_list[:10]\n"
   ]
  },
  {
   "cell_type": "code",
   "execution_count": 33,
   "metadata": {},
   "outputs": [
    {
     "name": "stdout",
     "output_type": "stream",
     "text": [
      "CPU times: user 1.55 ms, sys: 2 µs, total: 1.55 ms\n",
      "Wall time: 1.56 ms\n"
     ]
    }
   ],
   "source": [
    "%%time\n",
    "for i in range(h):\n",
    "    for j in range(w):\n",
    "        first_list[i][j] = func(first_list[i][j])"
   ]
  },
  {
   "cell_type": "code",
   "execution_count": 34,
   "metadata": {},
   "outputs": [
    {
     "data": {
      "text/plain": [
       "[[24, 66],\n",
       " [50, -4],\n",
       " [36, 24],\n",
       " [14, 24],\n",
       " [104, 0],\n",
       " [6, 36],\n",
       " [24, 84],\n",
       " [0, 6],\n",
       " [84, 84],\n",
       " [14, -4]]"
      ]
     },
     "execution_count": 34,
     "metadata": {},
     "output_type": "execute_result"
    }
   ],
   "source": [
    "first_list[:10]"
   ]
  },
  {
   "cell_type": "markdown",
   "metadata": {},
   "source": [
    "### Now let's do the same thing with numpy arrays"
   ]
  },
  {
   "cell_type": "code",
   "execution_count": 35,
   "metadata": {},
   "outputs": [
    {
     "name": "stdout",
     "output_type": "stream",
     "text": [
      "[[-6.67197369 -2.00615797]\n",
      " [ 6.65422982  1.92412723]\n",
      " [ 8.38031129  3.59684951]\n",
      " [ 2.7578097   6.6690765 ]\n",
      " [ 1.46212561  3.51547829]\n",
      " [ 9.95845989  3.8552145 ]\n",
      " [-1.82022531  3.39991586]\n",
      " [ 6.66266745  5.30816641]\n",
      " [ 8.09268667  8.04133536]\n",
      " [ 2.06536292  4.2145766 ]]\n"
     ]
    }
   ],
   "source": [
    "#By default, rand returns a rnadom number in the range [0,1) - so we normalize to get the values we want\n",
    "array = np.random.rand(h* w).reshape((h,w))\n",
    "array = array*20 - 10\n",
    "print(array[:10])"
   ]
  },
  {
   "cell_type": "code",
   "execution_count": 36,
   "metadata": {},
   "outputs": [
    {
     "name": "stdout",
     "output_type": "stream",
     "text": [
      "CPU times: user 35 µs, sys: 10 µs, total: 45 µs\n",
      "Wall time: 47.2 µs\n"
     ]
    }
   ],
   "source": [
    "%%time\n",
    "array = array**2 + array - 6"
   ]
  },
  {
   "cell_type": "code",
   "execution_count": 37,
   "metadata": {
    "scrolled": true
   },
   "outputs": [
    {
     "name": "stdout",
     "output_type": "stream",
     "text": [
      "[[ 31.8432592   -3.98148818]\n",
      " [ 44.93300438  -0.37360719]\n",
      " [ 72.60992869  10.53417588]\n",
      " [  4.36332407  45.14565791]\n",
      " [ -2.4000631    9.87406586]\n",
      " [103.12938323  12.71789337]\n",
      " [ -4.50700514   8.95934374]\n",
      " [ 45.05380506  27.48479706]\n",
      " [ 67.58426428  66.70440975]\n",
      " [  0.33108691  15.9772325 ]]\n"
     ]
    }
   ],
   "source": [
    "#Check that it worked\n",
    "print(array[:10])"
   ]
  },
  {
   "cell_type": "markdown",
   "metadata": {},
   "source": [
    "### It's way faster!"
   ]
  },
  {
   "cell_type": "markdown",
   "metadata": {},
   "source": [
    "### Some other useful manipulations\n",
    "A complete list of possible array manipulations can be found here:\n",
    "https://numpy.org/devdocs/reference/routines.array-manipulation.html"
   ]
  },
  {
   "cell_type": "code",
   "execution_count": 38,
   "metadata": {},
   "outputs": [
    {
     "data": {
      "text/plain": [
       "array([[1.        , 2.        , 3.        ],\n",
       "       [4.        , 5.        , 6.        ],\n",
       "       [3.        , 2.        , 1.        ],\n",
       "       [0.98890139, 0.56655816, 0.80530745],\n",
       "       [0.9913396 , 0.30788431, 0.44573092],\n",
       "       [0.39489164, 0.38140337, 0.64907629]])"
      ]
     },
     "execution_count": 38,
     "metadata": {},
     "output_type": "execute_result"
    }
   ],
   "source": [
    "np.concatenate((x,y), axis = 0)"
   ]
  },
  {
   "cell_type": "code",
   "execution_count": 39,
   "metadata": {},
   "outputs": [
    {
     "data": {
      "text/plain": [
       "array([[1.        , 2.        , 3.        , 0.98890139, 0.56655816,\n",
       "        0.80530745],\n",
       "       [4.        , 5.        , 6.        , 0.9913396 , 0.30788431,\n",
       "        0.44573092],\n",
       "       [3.        , 2.        , 1.        , 0.39489164, 0.38140337,\n",
       "        0.64907629]])"
      ]
     },
     "execution_count": 39,
     "metadata": {},
     "output_type": "execute_result"
    }
   ],
   "source": [
    "result = np.concatenate((x,y), axis = 1)\n",
    "result"
   ]
  },
  {
   "cell_type": "code",
   "execution_count": 40,
   "metadata": {},
   "outputs": [
    {
     "data": {
      "text/plain": [
       "array([[1.        , 4.        , 3.        ],\n",
       "       [2.        , 5.        , 2.        ],\n",
       "       [3.        , 6.        , 1.        ],\n",
       "       [0.98890139, 0.9913396 , 0.39489164],\n",
       "       [0.56655816, 0.30788431, 0.38140337],\n",
       "       [0.80530745, 0.44573092, 0.64907629]])"
      ]
     },
     "execution_count": 40,
     "metadata": {},
     "output_type": "execute_result"
    }
   ],
   "source": [
    "#not an inplace operation, if you want it to persist you need to reassign the variable using =\n",
    "result = np.transpose(result)\n",
    "result"
   ]
  },
  {
   "cell_type": "code",
   "execution_count": 41,
   "metadata": {},
   "outputs": [
    {
     "data": {
      "text/plain": [
       "array([[ 0.,  1.],\n",
       "       [ 1., -1.]])"
      ]
     },
     "execution_count": 41,
     "metadata": {},
     "output_type": "execute_result"
    }
   ],
   "source": [
    "#to invert a matrix use np.linalg.inv\n",
    "x = np.array([[1,1], [1,0]])\n",
    "np.linalg.inv(x)"
   ]
  },
  {
   "cell_type": "markdown",
   "metadata": {},
   "source": [
    "### Numpy for Linear Algebra"
   ]
  },
  {
   "cell_type": "markdown",
   "metadata": {},
   "source": [
    "#### Dot products"
   ]
  },
  {
   "cell_type": "markdown",
   "metadata": {},
   "source": [
    "We'll first define vectors v and w. Recall that the dot product of two vectors is calculating by multiplying each corresponding value and then summing the result. Let's start by computing the dot product with a for loop"
   ]
  },
  {
   "cell_type": "code",
   "execution_count": 42,
   "metadata": {},
   "outputs": [
    {
     "name": "stdout",
     "output_type": "stream",
     "text": [
      "v = \n",
      " [1 2 3]\n",
      "w = \n",
      " [4 5 6]\n",
      "expected dot product = 32\n",
      "32\n"
     ]
    }
   ],
   "source": [
    "v = np.array([1,2,3])\n",
    "w = np.array([4,5,6])\n",
    "\n",
    "print(\"v = \\n\", v)\n",
    "print(\"w = \\n\", w)\n",
    "print(\"expected dot product = 32\")\n",
    "\n",
    "# TODO: compute dot product of v and w with a for loop\n",
    "# note: length of a 1 dimensional array  = len(array) or array.shape[0]\n",
    "forloop_dotproduct = 0\n",
    "for i in range(v.shape[0]):\n",
    "    forloop_dotproduct += v[i] * w[i]\n",
    "\n",
    "print(forloop_dotproduct)\n"
   ]
  },
  {
   "cell_type": "code",
   "execution_count": 43,
   "metadata": {},
   "outputs": [
    {
     "name": "stdout",
     "output_type": "stream",
     "text": [
      "32\n"
     ]
    }
   ],
   "source": [
    "# TODO: compute dot product of v and w with numpy functions \n",
    "# hint: addition and summation are the key operations in a dot product\n",
    "\n",
    "np_dotproduct = sum(v * w)\n",
    "print(np_dotproduct)\n"
   ]
  },
  {
   "cell_type": "code",
   "execution_count": 44,
   "metadata": {},
   "outputs": [
    {
     "data": {
      "text/plain": [
       "32"
      ]
     },
     "execution_count": 44,
     "metadata": {},
     "output_type": "execute_result"
    }
   ],
   "source": [
    "# TODO: two ways of using np.dot() to compute the same dot product\n",
    "np.dot(v, w)"
   ]
  },
  {
   "cell_type": "markdown",
   "metadata": {},
   "source": [
    "#### Matrix-vector product"
   ]
  },
  {
   "cell_type": "markdown",
   "metadata": {},
   "source": [
    "We'll first define matrix M and vector v. Recall that matrix multiplication between a matrix and a vector involves computing a dot product between each row of the matrix M and the vector v. \n",
    "\n",
    "In machine learning, M is typically a matrix of learned parameters where each row corresponds to one of the output predictions, which is a weighted sum of the input features from v. The features v change for every new example but the weights M are applied to every example in training and testing data.\n",
    "\n"
   ]
  },
  {
   "cell_type": "code",
   "execution_count": 45,
   "metadata": {},
   "outputs": [
    {
     "name": "stdout",
     "output_type": "stream",
     "text": [
      "M = \n",
      " [[1 2 3]\n",
      " [3 2 1]]\n",
      "v = \n",
      " [4 1 2]\n",
      "Result = \n",
      "[12, 16]\n"
     ]
    }
   ],
   "source": [
    "M = np.array([[1,2,3],[3,2,1]])\n",
    "v = np.array([4,1,2])\n",
    "\n",
    "print(\"M = \\n\", M)\n",
    "print(\"v = \\n\", v)\n",
    "print(\"Result = \\n[12, 16]\")"
   ]
  },
  {
   "cell_type": "code",
   "execution_count": 46,
   "metadata": {},
   "outputs": [
    {
     "name": "stdout",
     "output_type": "stream",
     "text": [
      "np.dot matrix product = \n",
      " [12 16]\n"
     ]
    }
   ],
   "source": [
    "# TODO: get each row of M using array slicing\n",
    "M_row0 = M[0,:]\n",
    "M_row1 = M[1,:]\n",
    "\n",
    "# TODO: compute the dot product of each row of M with v\n",
    "row0_dotproduct = np.dot(M_row0, v)\n",
    "row1_dotproduct = np.dot(M_row1, v)\n",
    "\n",
    "answer = np.array([row0_dotproduct, row1_dotproduct])\n",
    "print(\"np.dot matrix product = \\n\", answer)"
   ]
  },
  {
   "cell_type": "code",
   "execution_count": 47,
   "metadata": {},
   "outputs": [
    {
     "data": {
      "text/plain": [
       "array([12, 16])"
      ]
     },
     "execution_count": 47,
     "metadata": {},
     "output_type": "execute_result"
    }
   ],
   "source": [
    "# Use numpy's built in functionality to get the same result\n",
    "np.dot(M, v)"
   ]
  },
  {
   "cell_type": "markdown",
   "metadata": {},
   "source": [
    "#### Matrix-Matrix multiplication"
   ]
  },
  {
   "cell_type": "code",
   "execution_count": 48,
   "metadata": {},
   "outputs": [
    {
     "name": "stdout",
     "output_type": "stream",
     "text": [
      "A = \n",
      " [[1 2]\n",
      " [3 4]]\n",
      "B = \n",
      " [[4 3]\n",
      " [2 1]]\n"
     ]
    }
   ],
   "source": [
    "A = np.array([[1,2],[3,4]])\n",
    "B = np.array([[4,3],[2,1]])\n",
    "\n",
    "print(\"A = \\n\", A)\n",
    "print(\"B = \\n\", B)"
   ]
  },
  {
   "cell_type": "code",
   "execution_count": 49,
   "metadata": {},
   "outputs": [
    {
     "name": "stdout",
     "output_type": "stream",
     "text": [
      "upper left =  9\n",
      "upper right =  7\n",
      "lower left =  13\n",
      "lower right =  11\n"
     ]
    }
   ],
   "source": [
    "upper_left = sum(A[0,:] + B[:, 0])\n",
    "print(\"upper left = \", upper_left)\n",
    "\n",
    "upper_right = sum(A[0,:] + B[:, 1])\n",
    "print(\"upper right = \", upper_right)\n",
    "\n",
    "lower_left = sum(A[1,:] + B[:, 0])\n",
    "print(\"lower left = \", lower_left)\n",
    "\n",
    "lower_right = sum(A[1,:] + B[:, 1])\n",
    "print(\"lower right = \", lower_right)"
   ]
  },
  {
   "cell_type": "code",
   "execution_count": 50,
   "metadata": {},
   "outputs": [
    {
     "data": {
      "text/plain": [
       "array([[ 9,  7],\n",
       "       [13, 11]])"
      ]
     },
     "execution_count": 50,
     "metadata": {},
     "output_type": "execute_result"
    }
   ],
   "source": [
    "# Numpy matrix products:\n",
    "np.array([[upper_left, upper_right], [lower_left, lower_right]])"
   ]
  },
  {
   "cell_type": "markdown",
   "metadata": {},
   "source": [
    "### Broadcasting\n",
    "The term broadcasting refers to how numpy treats doing arithmetic operations on arrays of different shapes.\n",
    "When operating on two arrays, NumPy compares their shapes element-wise. Two dimensions are compatible when\n",
    "* they are equal, or\n",
    "* one of them is 1\n",
    "\n",
    "If the dimensional are different, but one of them is 1, then numpy will apply the operation to each column on that axis"
   ]
  },
  {
   "cell_type": "code",
   "execution_count": 51,
   "metadata": {},
   "outputs": [
    {
     "name": "stdout",
     "output_type": "stream",
     "text": [
      "x is a column vector\n",
      "\n",
      "(5, 1)\n",
      "[[0]\n",
      " [1]\n",
      " [2]\n",
      " [3]\n",
      " [4]]\n",
      "y is a row vector\n",
      "(5,)\n",
      "[1. 1. 1. 1. 1.]\n"
     ]
    }
   ],
   "source": [
    "x = np.array(range(5))\n",
    "x = x.reshape(5, 1)\n",
    "print(\"x is a column vector\")\n",
    "print()\n",
    "print(x.shape)\n",
    "print(x)\n",
    "\n",
    "y = np.ones((5))\n",
    "print(\"y is a row vector\")\n",
    "print(y.shape)\n",
    "print(y)"
   ]
  },
  {
   "cell_type": "code",
   "execution_count": 52,
   "metadata": {},
   "outputs": [
    {
     "name": "stdout",
     "output_type": "stream",
     "text": [
      "[[1. 1. 1. 1. 1.]\n",
      " [2. 2. 2. 2. 2.]\n",
      " [3. 3. 3. 3. 3.]\n",
      " [4. 4. 4. 4. 4.]\n",
      " [5. 5. 5. 5. 5.]]\n"
     ]
    }
   ],
   "source": [
    "print(x+y)"
   ]
  },
  {
   "cell_type": "markdown",
   "metadata": {},
   "source": [
    "### Real world example of why broadcasting is useful"
   ]
  },
  {
   "cell_type": "code",
   "execution_count": 53,
   "metadata": {},
   "outputs": [
    {
     "data": {
      "text/plain": [
       "array([[8.3349446 , 9.53538895, 7.91516817, 3.07849265, 4.83911467],\n",
       "       [1.84666018, 1.34868606, 8.85515856, 7.80790442, 5.07151916],\n",
       "       [4.09450017, 3.44087332, 7.8994112 , 7.02085702, 5.56051737],\n",
       "       [7.49821618, 0.68996929, 5.69178817, 0.3498943 , 2.43054263]])"
      ]
     },
     "execution_count": 53,
     "metadata": {},
     "output_type": "execute_result"
    }
   ],
   "source": [
    "# Suppose we have a matrix where we want to normalize the rows to have mean zero\n",
    "matrix = 10*np.random.rand(4,5)\n",
    "matrix"
   ]
  },
  {
   "cell_type": "code",
   "execution_count": 54,
   "metadata": {},
   "outputs": [
    {
     "data": {
      "text/plain": [
       "array([[6.74062181],\n",
       "       [4.98598567],\n",
       "       [5.60323182],\n",
       "       [3.33208211]])"
      ]
     },
     "execution_count": 54,
     "metadata": {},
     "output_type": "execute_result"
    }
   ],
   "source": [
    "row_means = matrix.mean(axis = 1).reshape((4,1))\n",
    "row_means"
   ]
  },
  {
   "cell_type": "code",
   "execution_count": 55,
   "metadata": {},
   "outputs": [
    {
     "name": "stdout",
     "output_type": "stream",
     "text": [
      "[[ 1.59432279  2.79476714  1.17454637 -3.66212916 -1.90150714]\n",
      " [-3.1393255  -3.63729961  3.86917289  2.82191874  0.08553348]\n",
      " [-1.50873165 -2.1623585   2.29617938  1.4176252  -0.04271444]\n",
      " [ 4.16613407 -2.64211282  2.35970605 -2.98218781 -0.90153949]]\n"
     ]
    },
    {
     "data": {
      "text/plain": [
       "array([-1.77635684e-16, -1.77635684e-16, -1.77635684e-16, -1.77635684e-16])"
      ]
     },
     "execution_count": 55,
     "metadata": {},
     "output_type": "execute_result"
    }
   ],
   "source": [
    "matrix = matrix - row_means\n",
    "print(matrix)\n",
    "matrix.mean(axis = 1)"
   ]
  },
  {
   "cell_type": "markdown",
   "metadata": {},
   "source": [
    "### Using boolean masks\n",
    "In numpy, when you compare two arrays, you get a boolean mask as the output.  You can then use this boolean mask to grab specific values in an array."
   ]
  },
  {
   "cell_type": "code",
   "execution_count": 56,
   "metadata": {},
   "outputs": [
    {
     "data": {
      "text/plain": [
       "array([[False, False, False, False, False],\n",
       "       [False, False, False, False, False],\n",
       "       [False,  True,  True,  True,  True],\n",
       "       [ True,  True,  True,  True,  True]])"
      ]
     },
     "execution_count": 56,
     "metadata": {},
     "output_type": "execute_result"
    }
   ],
   "source": [
    "array = np.array(range(20)).reshape((4,5))\n",
    "output = array > 10\n",
    "output"
   ]
  },
  {
   "cell_type": "code",
   "execution_count": 57,
   "metadata": {},
   "outputs": [
    {
     "data": {
      "text/plain": [
       "array([11, 12, 13, 14, 15, 16, 17, 18, 19])"
      ]
     },
     "execution_count": 57,
     "metadata": {},
     "output_type": "execute_result"
    }
   ],
   "source": [
    "array[output]"
   ]
  },
  {
   "cell_type": "code",
   "execution_count": 58,
   "metadata": {},
   "outputs": [
    {
     "data": {
      "text/plain": [
       "array([[ True,  True,  True,  True,  True],\n",
       "       [False, False, False, False, False],\n",
       "       [False, False, False, False, False],\n",
       "       [False,  True,  True,  True,  True]])"
      ]
     },
     "execution_count": 58,
     "metadata": {},
     "output_type": "execute_result"
    }
   ],
   "source": [
    "#you can combine boolean statements for more complicated operations\n",
    "mask = (array < 5) | (array > 15)\n",
    "mask"
   ]
  },
  {
   "cell_type": "markdown",
   "metadata": {},
   "source": [
    "## Practice boolean mask problem\n",
    "Given a matrix, change all of the negative values to zero"
   ]
  },
  {
   "cell_type": "code",
   "execution_count": 59,
   "metadata": {},
   "outputs": [
    {
     "name": "stdout",
     "output_type": "stream",
     "text": [
      "[[0.40294325 0.         0.23788314 0.41541082 0.30784643]\n",
      " [0.50674744 0.60483551 0.81975588 0.56022918 0.87579711]\n",
      " [0.56891768 0.35159865 0.         0.04236427 0.4668134 ]\n",
      " [0.88100187 0.         0.         0.45655513 0.58039944]\n",
      " [0.07901101 0.         0.         0.62027575 0.        ]]\n"
     ]
    }
   ],
   "source": [
    "matrix = 2*np.random.rand(5, 5) - 1\n",
    "mask = matrix < 0\n",
    "matrix[mask] = 0\n",
    "print(matrix)"
   ]
  },
  {
   "cell_type": "code",
   "execution_count": 60,
   "metadata": {},
   "outputs": [
    {
     "name": "stdout",
     "output_type": "stream",
     "text": [
      "[[False False False False False]\n",
      " [False False False False False]\n",
      " [False False False False False]\n",
      " [False False False False False]\n",
      " [False False False False False]]\n",
      "[[0.40294325 0.         0.23788314 0.41541082 0.30784643]\n",
      " [0.50674744 0.60483551 0.81975588 0.56022918 0.87579711]\n",
      " [0.56891768 0.35159865 0.         0.04236427 0.4668134 ]\n",
      " [0.88100187 0.         0.         0.45655513 0.58039944]\n",
      " [0.07901101 0.         0.         0.62027575 0.        ]]\n"
     ]
    }
   ],
   "source": [
    "### SOLUTION ###\n",
    "mask = matrix < 0\n",
    "print(mask)\n",
    "matrix[mask] = 0\n",
    "print(matrix)"
   ]
  },
  {
   "cell_type": "markdown",
   "metadata": {},
   "source": [
    "### Reshaping"
   ]
  },
  {
   "cell_type": "code",
   "execution_count": 61,
   "metadata": {},
   "outputs": [
    {
     "name": "stdout",
     "output_type": "stream",
     "text": [
      "[ 1.   3.2  5.4  7.6  9.8 12. ]\n"
     ]
    },
    {
     "data": {
      "text/plain": [
       "array([[ 1. ,  3.2],\n",
       "       [ 5.4,  7.6],\n",
       "       [ 9.8, 12. ]])"
      ]
     },
     "execution_count": 61,
     "metadata": {},
     "output_type": "execute_result"
    }
   ],
   "source": [
    "#when your reshape, by default you fill the new array by rows\n",
    "x = np.linspace(1, 12, 6)\n",
    "print(x)\n",
    "x = x.reshape((3,2)) #does not reshape in place!\n",
    "x"
   ]
  },
  {
   "cell_type": "markdown",
   "metadata": {},
   "source": [
    "# Making Plots in Jupyter Notebook\n",
    "A Matplotlib figure can be categorized into several parts as below:\n",
    "    \n",
    "**Figure:** It is a whole figure which may contain one or more than one axes (plots). You can think of a Figure as a canvas which contains plots.\n",
    "\n",
    "**Axes:** It is what we generally think of as a plot. A Figure can contain many Axes. It contains two or three (in the case of 3D) Axis objects. Each Axes has a title, an x-label and a y-label.\n",
    "\n",
    "**Axis:** They are the number line like objects and take care of generating the graph limits."
   ]
  },
  {
   "cell_type": "code",
   "execution_count": 62,
   "metadata": {},
   "outputs": [],
   "source": [
    "import matplotlib.pyplot as plt"
   ]
  },
  {
   "cell_type": "code",
   "execution_count": 63,
   "metadata": {},
   "outputs": [
    {
     "name": "stdout",
     "output_type": "stream",
     "text": [
      "[ 0  1  4  9 16 25 36 49 64 81]\n"
     ]
    },
    {
     "data": {
      "image/png": "[encoded data removed]",
      "text/plain": [
       "<Figure size 432x288 with 1 Axes>"
      ]
     },
     "metadata": {
      "needs_background": "light"
     },
     "output_type": "display_data"
    }
   ],
   "source": [
    "x = np.arange(10)**2\n",
    "print(x)\n",
    "plt.plot(x)\n",
    "plt.show()"
   ]
  },
  {
   "cell_type": "code",
   "execution_count": 64,
   "metadata": {},
   "outputs": [
    {
     "data": {
      "image/png": "[encoded data removed]",
      "text/plain": [
       "<Figure size 1080x1080 with 1 Axes>"
      ]
     },
     "metadata": {
      "needs_background": "light"
     },
     "output_type": "display_data"
    }
   ],
   "source": [
    "plt.figure(figsize = (15,15))\n",
    "plt.plot(x)\n",
    "plt.title(\"This is a graph\")\n",
    "plt.xlabel(\"this is the x label\")\n",
    "plt.ylabel(\"this is the y label\")\n",
    "plt.show()"
   ]
  },
  {
   "cell_type": "markdown",
   "metadata": {},
   "source": [
    "# Part 2"
   ]
  },
  {
   "cell_type": "markdown",
   "metadata": {},
   "source": [
    "### Data Structures in Python\n",
    "You may have noticed that it can be tricky to manipulate arrays in python because by default, python passed objects as references. In this section, we'll explain this behavior, and giving some debugging tools to use when confronted with related issues."
   ]
  },
  {
   "cell_type": "code",
   "execution_count": 65,
   "metadata": {},
   "outputs": [
    {
     "data": {
      "text/plain": [
       "array([ 1.,  2.,  3.,  4.,  5.,  6.,  7.,  8.,  9., 10.])"
      ]
     },
     "execution_count": 65,
     "metadata": {},
     "output_type": "execute_result"
    }
   ],
   "source": [
    "array = np.linspace(1, 10, 10)\n",
    "array"
   ]
  },
  {
   "cell_type": "code",
   "execution_count": 66,
   "metadata": {},
   "outputs": [
    {
     "data": {
      "text/plain": [
       "array([ 1.,  2.,  3.,  4.,  5.,  6.,  7.,  8.,  9., 10.])"
      ]
     },
     "execution_count": 66,
     "metadata": {},
     "output_type": "execute_result"
    }
   ],
   "source": [
    "dup = array\n",
    "dup"
   ]
  },
  {
   "cell_type": "code",
   "execution_count": 67,
   "metadata": {},
   "outputs": [
    {
     "data": {
      "text/plain": [
       "array([100.,   2.,   3.,   4.,   5.,   6.,   7.,   8.,   9.,  10.])"
      ]
     },
     "execution_count": 67,
     "metadata": {},
     "output_type": "execute_result"
    }
   ],
   "source": [
    "array[0] = 100\n",
    "dup"
   ]
  },
  {
   "cell_type": "code",
   "execution_count": 68,
   "metadata": {
    "collapsed": true,
    "jupyter": {
     "outputs_hidden": true
    }
   },
   "outputs": [
    {
     "name": "stdout",
     "output_type": "stream",
     "text": [
      "4750161200\n",
      "4750161200\n"
     ]
    }
   ],
   "source": [
    "print(id(array))\n",
    "print(id(dup))"
   ]
  },
  {
   "cell_type": "code",
   "execution_count": 69,
   "metadata": {},
   "outputs": [
    {
     "data": {
      "text/plain": [
       "array([100.,   2.,   3.,   4.,   5.,   6.,   7.,   8.,   9.,  10.])"
      ]
     },
     "execution_count": 69,
     "metadata": {},
     "output_type": "execute_result"
    }
   ],
   "source": [
    "array"
   ]
  },
  {
   "cell_type": "markdown",
   "metadata": {},
   "source": [
    "### Notice that the dup and array point to the same object!\n",
    "How would we fix this?\n",
    "\n",
    "### Use the copy library, or np.array.copy\n",
    "IMPORTANT: Using the slicing syntax [:] doesn't always work"
   ]
  },
  {
   "cell_type": "code",
   "execution_count": 70,
   "metadata": {},
   "outputs": [
    {
     "name": "stdout",
     "output_type": "stream",
     "text": [
      "4500743072\n",
      "4749626464\n"
     ]
    },
    {
     "data": {
      "text/plain": [
       "array([100.,   2.,   3.,   4.,   5.,   6.,   7.,   8.,   9.,  10.])"
      ]
     },
     "execution_count": 70,
     "metadata": {},
     "output_type": "execute_result"
    }
   ],
   "source": [
    "#slicing\n",
    "array = np.linspace(1, 10, 10)\n",
    "dup = array[:]\n",
    "print(id(array))\n",
    "print(id(dup))\n",
    "array[0] = 100\n",
    "dup"
   ]
  },
  {
   "cell_type": "code",
   "execution_count": 71,
   "metadata": {},
   "outputs": [
    {
     "name": "stdout",
     "output_type": "stream",
     "text": [
      "4749782352\n",
      "4739307360\n"
     ]
    },
    {
     "data": {
      "text/plain": [
       "array([ 1.,  2.,  3.,  4.,  5.,  6.,  7.,  8.,  9., 10.])"
      ]
     },
     "execution_count": 71,
     "metadata": {},
     "output_type": "execute_result"
    }
   ],
   "source": [
    "#using copy\n",
    "import copy\n",
    "array = np.linspace(1, 10, 10)\n",
    "dup = copy.deepcopy(array)\n",
    "print(id(array))\n",
    "print(id(dup))\n",
    "array[0] = 100\n",
    "dup"
   ]
  },
  {
   "cell_type": "markdown",
   "metadata": {},
   "source": [
    "Beware of copy vs. deepcopy!\n",
    "\n",
    "https://docs.python.org/2/library/copy.html\n",
    "<img src=\"shallow_copy.png\">\n",
    "<img src=\"deep_copy.png\">"
   ]
  },
  {
   "cell_type": "code",
   "execution_count": 72,
   "metadata": {},
   "outputs": [
    {
     "name": "stdout",
     "output_type": "stream",
     "text": [
      "4750571280\n",
      "4749782352\n"
     ]
    },
    {
     "data": {
      "text/plain": [
       "array([ 1.,  2.,  3.,  4.,  5.,  6.,  7.,  8.,  9., 10.])"
      ]
     },
     "execution_count": 72,
     "metadata": {},
     "output_type": "execute_result"
    }
   ],
   "source": [
    "#numpy arrays also have a builtin copy function\n",
    "array = np.linspace(1, 10, 10)\n",
    "dup = array.copy()\n",
    "print(id(array))\n",
    "print(id(dup))\n",
    "array[0] = 100\n",
    "dup"
   ]
  },
  {
   "cell_type": "markdown",
   "metadata": {},
   "source": [
    "### Let's try it with multidimensional arrays"
   ]
  },
  {
   "cell_type": "code",
   "execution_count": 73,
   "metadata": {},
   "outputs": [],
   "source": [
    "def display(img):\n",
    "    # Show image\n",
    "    plt.figure(figsize = (5,5))\n",
    "    plt.imshow(img)\n",
    "    plt.axis('off')\n",
    "    plt.show()\n",
    "    \n",
    "def load(image_path):\n",
    "    out = io.imread(image_path)\n",
    "\n",
    "    # Let's convert the image to be between the correct range.\n",
    "    out = out.astype(np.float64) / 255\n",
    "    return out"
   ]
  },
  {
   "cell_type": "code",
   "execution_count": 76,
   "metadata": {},
   "outputs": [
    {
     "ename": "ModuleNotFoundError",
     "evalue": "No module named '_lzma'",
     "output_type": "error",
     "traceback": [
      "\u001b[0;31m---------------------------------------------------------------------------\u001b[0m",
      "\u001b[0;31mModuleNotFoundError\u001b[0m                       Traceback (most recent call last)",
      "\u001b[0;32m<ipython-input-76-0f73873b2159>\u001b[0m in \u001b[0;36m<module>\u001b[0;34m\u001b[0m\n\u001b[0;32m----> 1\u001b[0;31m \u001b[0;32mfrom\u001b[0m \u001b[0mskimage\u001b[0m \u001b[0;32mimport\u001b[0m \u001b[0mio\u001b[0m\u001b[0;34m\u001b[0m\u001b[0;34m\u001b[0m\u001b[0m\n\u001b[0m\u001b[1;32m      2\u001b[0m \u001b[0mimg\u001b[0m \u001b[0;34m=\u001b[0m \u001b[0mload\u001b[0m\u001b[0;34m(\u001b[0m\u001b[0;34m'image1.jpg'\u001b[0m\u001b[0;34m)\u001b[0m\u001b[0;34m\u001b[0m\u001b[0;34m\u001b[0m\u001b[0m\n\u001b[1;32m      3\u001b[0m \u001b[0mdisplay\u001b[0m\u001b[0;34m(\u001b[0m\u001b[0mimg\u001b[0m\u001b[0;34m)\u001b[0m\u001b[0;34m\u001b[0m\u001b[0;34m\u001b[0m\u001b[0m\n",
      "\u001b[0;32m~/Documents/CS131_ComputerVision_Foundations_and_Applications/CS131_release/fall_2020/env/lib/python3.8/site-packages/skimage/io/__init__.py\u001b[0m in \u001b[0;36m<module>\u001b[0;34m\u001b[0m\n\u001b[1;32m      5\u001b[0m \"\"\"\n\u001b[1;32m      6\u001b[0m \u001b[0;34m\u001b[0m\u001b[0m\n\u001b[0;32m----> 7\u001b[0;31m \u001b[0;32mfrom\u001b[0m \u001b[0;34m.\u001b[0m\u001b[0mmanage_plugins\u001b[0m \u001b[0;32mimport\u001b[0m \u001b[0;34m*\u001b[0m\u001b[0;34m\u001b[0m\u001b[0;34m\u001b[0m\u001b[0m\n\u001b[0m\u001b[1;32m      8\u001b[0m \u001b[0;32mfrom\u001b[0m \u001b[0;34m.\u001b[0m\u001b[0msift\u001b[0m \u001b[0;32mimport\u001b[0m \u001b[0;34m*\u001b[0m\u001b[0;34m\u001b[0m\u001b[0;34m\u001b[0m\u001b[0m\n\u001b[1;32m      9\u001b[0m \u001b[0;32mfrom\u001b[0m \u001b[0;34m.\u001b[0m\u001b[0mcollection\u001b[0m \u001b[0;32mimport\u001b[0m \u001b[0;34m*\u001b[0m\u001b[0;34m\u001b[0m\u001b[0;34m\u001b[0m\u001b[0m\n",
      "\u001b[0;32m~/Documents/CS131_ComputerVision_Foundations_and_Applications/CS131_release/fall_2020/env/lib/python3.8/site-packages/skimage/io/manage_plugins.py\u001b[0m in \u001b[0;36m<module>\u001b[0;34m\u001b[0m\n\u001b[1;32m     21\u001b[0m \u001b[0;32mfrom\u001b[0m \u001b[0mglob\u001b[0m \u001b[0;32mimport\u001b[0m \u001b[0mglob\u001b[0m\u001b[0;34m\u001b[0m\u001b[0;34m\u001b[0m\u001b[0m\n\u001b[1;32m     22\u001b[0m \u001b[0;34m\u001b[0m\u001b[0m\n\u001b[0;32m---> 23\u001b[0;31m \u001b[0;32mfrom\u001b[0m \u001b[0;34m.\u001b[0m\u001b[0mcollection\u001b[0m \u001b[0;32mimport\u001b[0m \u001b[0mimread_collection_wrapper\u001b[0m\u001b[0;34m\u001b[0m\u001b[0;34m\u001b[0m\u001b[0m\n\u001b[0m\u001b[1;32m     24\u001b[0m \u001b[0;34m\u001b[0m\u001b[0m\n\u001b[1;32m     25\u001b[0m __all__ = ['use_plugin', 'call_plugin', 'plugin_info', 'plugin_order',\n",
      "\u001b[0;32m~/Documents/CS131_ComputerVision_Foundations_and_Applications/CS131_release/fall_2020/env/lib/python3.8/site-packages/skimage/io/collection.py\u001b[0m in \u001b[0;36m<module>\u001b[0;34m\u001b[0m\n\u001b[1;32m     11\u001b[0m \u001b[0;32mfrom\u001b[0m \u001b[0mPIL\u001b[0m \u001b[0;32mimport\u001b[0m \u001b[0mImage\u001b[0m\u001b[0;34m\u001b[0m\u001b[0;34m\u001b[0m\u001b[0m\n\u001b[1;32m     12\u001b[0m \u001b[0;34m\u001b[0m\u001b[0m\n\u001b[0;32m---> 13\u001b[0;31m \u001b[0;32mfrom\u001b[0m \u001b[0mtifffile\u001b[0m \u001b[0;32mimport\u001b[0m \u001b[0mTiffFile\u001b[0m\u001b[0;34m\u001b[0m\u001b[0;34m\u001b[0m\u001b[0m\n\u001b[0m\u001b[1;32m     14\u001b[0m \u001b[0;34m\u001b[0m\u001b[0m\n\u001b[1;32m     15\u001b[0m \u001b[0;34m\u001b[0m\u001b[0m\n",
      "\u001b[0;32m~/Documents/CS131_ComputerVision_Foundations_and_Applications/CS131_release/fall_2020/env/lib/python3.8/site-packages/tifffile/__init__.py\u001b[0m in \u001b[0;36m<module>\u001b[0;34m\u001b[0m\n\u001b[1;32m      1\u001b[0m \u001b[0;31m# tifffile/__init__.py\u001b[0m\u001b[0;34m\u001b[0m\u001b[0;34m\u001b[0m\u001b[0;34m\u001b[0m\u001b[0m\n\u001b[1;32m      2\u001b[0m \u001b[0;34m\u001b[0m\u001b[0m\n\u001b[0;32m----> 3\u001b[0;31m \u001b[0;32mfrom\u001b[0m \u001b[0;34m.\u001b[0m\u001b[0mtifffile\u001b[0m \u001b[0;32mimport\u001b[0m \u001b[0m__doc__\u001b[0m\u001b[0;34m,\u001b[0m \u001b[0m__all__\u001b[0m\u001b[0;34m,\u001b[0m \u001b[0m__version__\u001b[0m\u001b[0;34m,\u001b[0m \u001b[0mmain\u001b[0m\u001b[0;34m\u001b[0m\u001b[0;34m\u001b[0m\u001b[0m\n\u001b[0m\u001b[1;32m      4\u001b[0m \u001b[0;32mfrom\u001b[0m \u001b[0;34m.\u001b[0m\u001b[0mtifffile\u001b[0m \u001b[0;32mimport\u001b[0m \u001b[0;34m*\u001b[0m\u001b[0;34m\u001b[0m\u001b[0;34m\u001b[0m\u001b[0m\n",
      "\u001b[0;32m~/Documents/CS131_ComputerVision_Foundations_and_Applications/CS131_release/fall_2020/env/lib/python3.8/site-packages/tifffile/tifffile.py\u001b[0m in \u001b[0;36m<module>\u001b[0;34m\u001b[0m\n\u001b[1;32m  13792\u001b[0m \u001b[0;34m\u001b[0m\u001b[0m\n\u001b[1;32m  13793\u001b[0m \u001b[0;32mif\u001b[0m \u001b[0mimagecodecs\u001b[0m \u001b[0;32mis\u001b[0m \u001b[0;32mNone\u001b[0m\u001b[0;34m:\u001b[0m\u001b[0;34m\u001b[0m\u001b[0;34m\u001b[0m\u001b[0m\n\u001b[0;32m> 13794\u001b[0;31m     \u001b[0;32mimport\u001b[0m \u001b[0mlzma\u001b[0m\u001b[0;34m\u001b[0m\u001b[0;34m\u001b[0m\u001b[0m\n\u001b[0m\u001b[1;32m  13795\u001b[0m     \u001b[0;32mimport\u001b[0m \u001b[0mzlib\u001b[0m\u001b[0;34m\u001b[0m\u001b[0;34m\u001b[0m\u001b[0m\n\u001b[1;32m  13796\u001b[0m \u001b[0;34m\u001b[0m\u001b[0m\n",
      "\u001b[0;32m/usr/local/Cellar/python@3.8/3.8.6_1/Frameworks/Python.framework/Versions/3.8/lib/python3.8/lzma.py\u001b[0m in \u001b[0;36m<module>\u001b[0;34m\u001b[0m\n\u001b[1;32m     25\u001b[0m \u001b[0;32mimport\u001b[0m \u001b[0mio\u001b[0m\u001b[0;34m\u001b[0m\u001b[0;34m\u001b[0m\u001b[0m\n\u001b[1;32m     26\u001b[0m \u001b[0;32mimport\u001b[0m \u001b[0mos\u001b[0m\u001b[0;34m\u001b[0m\u001b[0;34m\u001b[0m\u001b[0m\n\u001b[0;32m---> 27\u001b[0;31m \u001b[0;32mfrom\u001b[0m \u001b[0m_lzma\u001b[0m \u001b[0;32mimport\u001b[0m \u001b[0;34m*\u001b[0m\u001b[0;34m\u001b[0m\u001b[0;34m\u001b[0m\u001b[0m\n\u001b[0m\u001b[1;32m     28\u001b[0m \u001b[0;32mfrom\u001b[0m \u001b[0m_lzma\u001b[0m \u001b[0;32mimport\u001b[0m \u001b[0m_encode_filter_properties\u001b[0m\u001b[0;34m,\u001b[0m \u001b[0m_decode_filter_properties\u001b[0m\u001b[0;34m\u001b[0m\u001b[0;34m\u001b[0m\u001b[0m\n\u001b[1;32m     29\u001b[0m \u001b[0;32mimport\u001b[0m \u001b[0m_compression\u001b[0m\u001b[0;34m\u001b[0m\u001b[0;34m\u001b[0m\u001b[0m\n",
      "\u001b[0;31mModuleNotFoundError\u001b[0m: No module named '_lzma'"
     ]
    }
   ],
   "source": [
    "from skimage import io\n",
    "img = load('image1.jpg')\n",
    "display(img)"
   ]
  },
  {
   "cell_type": "code",
   "execution_count": null,
   "metadata": {},
   "outputs": [],
   "source": [
    "def rgb_exclusion(image, channel):\n",
    "    out = image\n",
    "    if channel == 'R':\n",
    "        out[:, :, 0] = 0\n",
    "    elif channel == 'G':\n",
    "        out[:, :, 1] = 0\n",
    "    elif channel == 'B':\n",
    "        out[:, :, 2] = 0\n",
    "\n",
    "    return out\n",
    "\n",
    "no_green = rgb_exclusion(img, 'G')\n",
    "display(no_green)\n",
    "\n",
    "display(img)"
   ]
  },
  {
   "cell_type": "code",
   "execution_count": null,
   "metadata": {},
   "outputs": [],
   "source": [
    "img = load('image1.jpg')\n",
    "display(img)"
   ]
  },
  {
   "cell_type": "code",
   "execution_count": null,
   "metadata": {},
   "outputs": [],
   "source": [
    "#TODO: How to fix?\n",
    "def rgb_exclusion(image, channel):\n",
    "    out = image.copy()\n",
    "    if channel == 'R':\n",
    "        out[:, :, 0] = 0\n",
    "    elif channel == 'G':\n",
    "        out[:, :, 1] = 0\n",
    "    elif channel == 'B':\n",
    "        out[:, :, 2] = 0\n",
    "\n",
    "    return out\n",
    "\n",
    "no_green = rgb_exclusion(img, 'G')\n",
    "display(no_green)\n",
    "\n",
    "display(img)"
   ]
  },
  {
   "cell_type": "markdown",
   "metadata": {},
   "source": [
    "# Summary: when in doubt, use deepcopy"
   ]
  },
  {
   "cell_type": "markdown",
   "metadata": {},
   "source": [
    "### Sorting"
   ]
  },
  {
   "cell_type": "code",
   "execution_count": 77,
   "metadata": {},
   "outputs": [
    {
     "name": "stdout",
     "output_type": "stream",
     "text": [
      "[0.83104014 0.86574435 0.75429294 0.93427665 0.98176652 0.92975081\n",
      " 0.36951901 0.49276532 0.75467205 0.07614932]\n",
      "[0.07614932 0.36951901 0.49276532 0.75429294 0.75467205 0.83104014\n",
      " 0.86574435 0.92975081 0.93427665 0.98176652]\n",
      "[9 6 7 2 8 0 1 5 3 4]\n"
     ]
    }
   ],
   "source": [
    "test = np.random.random(10)\n",
    "print(test)\n",
    "print(np.sort(test))\n",
    "print(np.argsort(test))"
   ]
  },
  {
   "cell_type": "markdown",
   "metadata": {},
   "source": [
    "### Linear Algebra\n",
    "We can use the np.linalg module to do a lot of linear algebra stuff withpretty clean syntax.\n",
    "\n",
    "For example, say we wanted to solve the linear system $$ Ax = b$$."
   ]
  },
  {
   "cell_type": "code",
   "execution_count": 79,
   "metadata": {},
   "outputs": [
    {
     "data": {
      "text/plain": [
       "array([[-1.],\n",
       "       [ 2.]])"
      ]
     },
     "execution_count": 79,
     "metadata": {},
     "output_type": "execute_result"
    }
   ],
   "source": [
    "A = np.array([[1, 1], [2, 1]])\n",
    "b = np.array([[1], [0]])\n",
    "#This function takes parameters A, b, and returns x such that Ax =b. \n",
    "x = np.linalg.solve(A, b)\n",
    "x"
   ]
  },
  {
   "cell_type": "markdown",
   "metadata": {},
   "source": [
    "### How about more complicated stuff?\n",
    "Imagine trying to find a line of best fit.\n",
    "\n",
    "Linear regression finds the \"line of best fit\" by minimizing the residual sum of squares.\n",
    "\n",
    "If we have n datapoints $\\{(x_1, y_1), ... ,(x_n, y_n)\\}$, the objective function takes the form\n",
    "$$loss(X) = \\Sigma_{i = 1}^n (y_i - f(x_i))^2$$ where $$f(x_i) = \\theta_0 + \\theta_1 x_1 + ... +\\theta_n x_n$$\n",
    "\n",
    "It turns out the parameters such that the loss function is minimized are given by the closed form solution\n",
    "\n",
    "$$\\theta = (X^T X)^{-1} X^T y$$\n",
    "\n",
    "Let's see it in action!!!"
   ]
  },
  {
   "cell_type": "code",
   "execution_count": 80,
   "metadata": {},
   "outputs": [
    {
     "data": {
      "text/plain": [
       "<matplotlib.collections.PathCollection at 0x11b88fcd0>"
      ]
     },
     "execution_count": 80,
     "metadata": {},
     "output_type": "execute_result"
    },
    {
     "data": {
      "image/png": "[encoded data removed]",
      "text/plain": [
       "<Figure size 432x288 with 1 Axes>"
      ]
     },
     "metadata": {
      "needs_background": "light"
     },
     "output_type": "display_data"
    }
   ],
   "source": [
    "x = np.concatenate((np.linspace(1, 5, 10).reshape(10, 1), np.ones(10).reshape(10, 1)), axis = 1)\n",
    "y = x[:,0].copy() + 2*np.random.rand(10) - 0.5\n",
    "plt.scatter(x[:,0], y)"
   ]
  },
  {
   "cell_type": "code",
   "execution_count": 81,
   "metadata": {},
   "outputs": [
    {
     "name": "stdout",
     "output_type": "stream",
     "text": [
      "[0.98668853 0.66880389]\n"
     ]
    }
   ],
   "source": [
    "theta = np.linalg.lstsq(x, y, rcond=None)[0]\n",
    "print(theta)"
   ]
  },
  {
   "cell_type": "code",
   "execution_count": 82,
   "metadata": {},
   "outputs": [
    {
     "data": {
      "text/plain": [
       "[<matplotlib.lines.Line2D at 0x11b908400>]"
      ]
     },
     "execution_count": 82,
     "metadata": {},
     "output_type": "execute_result"
    },
    {
     "data": {
      "image/png": "[encoded data removed]",
      "text/plain": [
       "<Figure size 432x288 with 1 Axes>"
      ]
     },
     "metadata": {
      "needs_background": "light"
     },
     "output_type": "display_data"
    }
   ],
   "source": [
    "plt.scatter(x[:,0], y)\n",
    "plt.plot(x[:,0], x[:,0]*theta[0] + theta[1])"
   ]
  },
  {
   "cell_type": "code",
   "execution_count": 83,
   "metadata": {},
   "outputs": [
    {
     "name": "stdout",
     "output_type": "stream",
     "text": [
      "[0.98668853 0.66880389]\n"
     ]
    }
   ],
   "source": [
    "theta = np.linalg.inv(x.T.dot(x)).dot(x.T).dot(y)\n",
    "print(theta)"
   ]
  },
  {
   "cell_type": "markdown",
   "metadata": {},
   "source": [
    "### Vectorizing equations\n",
    "In a couple of homeworks, you'll gain experience formulating equations in matrix format.  This can be really tough, so let's go through an example for how to think about it!"
   ]
  },
  {
   "cell_type": "markdown",
   "metadata": {},
   "source": [
    "Suppose we didn't know that linear regression had a closed form solution. We could also solve the problem above using gradient descent.\n",
    "\n",
    "The gradient descent update rule looks like this:\n",
    "$$\\theta_{t+1} =\\theta_t - \\alpha \\nabla_{\\theta} L(\\theta, X)$$\n",
    "\n",
    "So we need to find the gradient with respect to $\\theta$. Recall that a gradient is a vector of partial derivatives.  So let's start by finding just one partial derivative.\n",
    "\n",
    "$$\\frac{\\partial}{\\partial \\theta_j}L(\\theta, X) = \\Sigma_{i = 1}^n 2(y_i - f(x_i))(-x_i[j])$$ where $$f(x_i) = \\theta_0 + \\theta_1 x_1 + ... +\\theta_n x_n$$\n",
    "\n",
    "Now the task is to get this into matrix format! Our theta vector is $\\theta = [\\theta_0,\\theta_1] \\in R^2$. Notice that our residuals can be written as a vector, $y - f(\\theta, X) \\in R^n$.\n",
    "\n",
    "In matrix multiplication, we dot the row of the first matrix with the columns of the second matrix.  A sum (like above) can oftern be expressed as a row times a column.\n",
    "\n",
    "$$\\theta_{t+1} =\\theta_t - \\alpha X^T (y - f(X, \\theta))$$\n",
    "\n",
    "\n",
    "\n",
    "\n",
    "    "
   ]
  },
  {
   "cell_type": "markdown",
   "metadata": {},
   "source": [
    "### Additional Resources\n",
    "https://www.youtube.com/watch?v=8Mpc9ukltVA\n",
    "\n",
    "https://jakevdp.github.io/PythonDataScienceHandbook/02.01-understanding-data-types.html\n",
    "\n",
    "https://towardsdatascience.com/matplotlib-tutorial-learn-basics-of-pythons-powerful-plotting-library-b5d1b8f67596\n",
    "\n",
    "https://scipy-cookbook.readthedocs.io/items/ViewsVsCopies.html\n",
    "\n",
    "https://www.geeksforgeeks.org/copy-python-deep-copy-shallow-copy/"
   ]
  }
 ],
 "metadata": {
  "kernelspec": {
   "display_name": "env",
   "language": "python",
   "name": "env"
  },
  "language_info": {
   "codemirror_mode": {
    "name": "ipython",
    "version": 3
   },
   "file_extension": ".py",
   "mimetype": "text/x-python",
   "name": "python",
   "nbconvert_exporter": "python",
   "pygments_lexer": "ipython3",
   "version": "3.8.6"
  }
 },
 "nbformat": 4,
 "nbformat_minor": 4
}
